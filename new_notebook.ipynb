{
 "cells": [
  {
   "cell_type": "code",
   "execution_count": 2,
   "id": "13c185cb",
   "metadata": {},
   "outputs": [],
   "source": [
    "import pandas as pd"
   ]
  },
  {
   "cell_type": "code",
   "execution_count": 3,
   "id": "604dcbc3",
   "metadata": {
    "scrolled": true
   },
   "outputs": [
    {
     "data": {
      "text/html": [
       "<div>\n",
       "<style scoped>\n",
       "    .dataframe tbody tr th:only-of-type {\n",
       "        vertical-align: middle;\n",
       "    }\n",
       "\n",
       "    .dataframe tbody tr th {\n",
       "        vertical-align: top;\n",
       "    }\n",
       "\n",
       "    .dataframe thead th {\n",
       "        text-align: right;\n",
       "    }\n",
       "</style>\n",
       "<table border=\"1\" class=\"dataframe\">\n",
       "  <thead>\n",
       "    <tr style=\"text-align: right;\">\n",
       "      <th></th>\n",
       "      <th>source</th>\n",
       "      <th>target</th>\n",
       "      <th>emt</th>\n",
       "    </tr>\n",
       "  </thead>\n",
       "  <tbody>\n",
       "    <tr>\n",
       "      <th>0</th>\n",
       "      <td>983859.0</td>\n",
       "      <td>544485.0</td>\n",
       "      <td>503.807815</td>\n",
       "    </tr>\n",
       "    <tr>\n",
       "      <th>1</th>\n",
       "      <td>605618.0</td>\n",
       "      <td>362627.0</td>\n",
       "      <td>5157.568486</td>\n",
       "    </tr>\n",
       "    <tr>\n",
       "      <th>2</th>\n",
       "      <td>323189.0</td>\n",
       "      <td>118238.0</td>\n",
       "      <td>498.628481</td>\n",
       "    </tr>\n",
       "    <tr>\n",
       "      <th>3</th>\n",
       "      <td>919153.0</td>\n",
       "      <td>983859.0</td>\n",
       "      <td>401.962668</td>\n",
       "    </tr>\n",
       "    <tr>\n",
       "      <th>4</th>\n",
       "      <td>995748.0</td>\n",
       "      <td>983859.0</td>\n",
       "      <td>5095.458776</td>\n",
       "    </tr>\n",
       "    <tr>\n",
       "      <th>...</th>\n",
       "      <td>...</td>\n",
       "      <td>...</td>\n",
       "      <td>...</td>\n",
       "    </tr>\n",
       "    <tr>\n",
       "      <th>466228</th>\n",
       "      <td>743092.0</td>\n",
       "      <td>307628.0</td>\n",
       "      <td>2959.506391</td>\n",
       "    </tr>\n",
       "    <tr>\n",
       "      <th>466229</th>\n",
       "      <td>420266.0</td>\n",
       "      <td>489593.0</td>\n",
       "      <td>208.011081</td>\n",
       "    </tr>\n",
       "    <tr>\n",
       "      <th>466230</th>\n",
       "      <td>441447.0</td>\n",
       "      <td>877470.0</td>\n",
       "      <td>2221.199295</td>\n",
       "    </tr>\n",
       "    <tr>\n",
       "      <th>466231</th>\n",
       "      <td>444883.0</td>\n",
       "      <td>137297.0</td>\n",
       "      <td>1175.932049</td>\n",
       "    </tr>\n",
       "    <tr>\n",
       "      <th>466232</th>\n",
       "      <td>500103.0</td>\n",
       "      <td>123640.0</td>\n",
       "      <td>100.431608</td>\n",
       "    </tr>\n",
       "  </tbody>\n",
       "</table>\n",
       "<p>466233 rows × 3 columns</p>\n",
       "</div>"
      ],
      "text/plain": [
       "          source    target          emt\n",
       "0       983859.0  544485.0   503.807815\n",
       "1       605618.0  362627.0  5157.568486\n",
       "2       323189.0  118238.0   498.628481\n",
       "3       919153.0  983859.0   401.962668\n",
       "4       995748.0  983859.0  5095.458776\n",
       "...          ...       ...          ...\n",
       "466228  743092.0  307628.0  2959.506391\n",
       "466229  420266.0  489593.0   208.011081\n",
       "466230  441447.0  877470.0  2221.199295\n",
       "466231  444883.0  137297.0  1175.932049\n",
       "466232  500103.0  123640.0   100.431608\n",
       "\n",
       "[466233 rows x 3 columns]"
      ]
     },
     "execution_count": 3,
     "metadata": {},
     "output_type": "execute_result"
    }
   ],
   "source": [
    "pd.read_csv(\"UofT_edges.csv\")"
   ]
  }
 ],
 "metadata": {
  "kernelspec": {
   "display_name": "Python 3 (ipykernel)",
   "language": "python",
   "name": "python3"
  },
  "language_info": {
   "codemirror_mode": {
    "name": "ipython",
    "version": 3
   },
   "file_extension": ".py",
   "mimetype": "text/x-python",
   "name": "python",
   "nbconvert_exporter": "python",
   "pygments_lexer": "ipython3",
   "version": "3.8.10"
  }
 },
 "nbformat": 4,
 "nbformat_minor": 5
}
